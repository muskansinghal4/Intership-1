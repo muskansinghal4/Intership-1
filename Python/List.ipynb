{
  "metadata": {
    "kernelspec": {
      "name": "python",
      "display_name": "Python (Pyodide)",
      "language": "python"
    },
    "language_info": {
      "codemirror_mode": {
        "name": "python",
        "version": 3
      },
      "file_extension": ".py",
      "mimetype": "text/x-python",
      "name": "python",
      "nbconvert_exporter": "python",
      "pygments_lexer": "ipython3",
      "version": "3.8"
    }
  },
  "nbformat_minor": 4,
  "nbformat": 4,
  "cells": [
    {
      "cell_type": "code",
      "source": "#Basic list operations\ncolours = [\"red\", \"blue\"]\n\ncolours.append(\"green\") #APPEND - to add a single element at end of list\nprint(f\"Append: {colours}\")\n\ncolours.insert(1, \"pink\") #INSERT - to insert an element at specific index\nprint(f\"Insert: {colours}\")\n\ncolours.remove(\"blue\") #REMOVE - to remove first occurence of the element\nprint(f\"Remove: {colours}\")\n\ncolours.append(\"green\") #COUNT - to count number of occurences of an element\ngreencolour_count = colours.count(\"green\")\nprint(f\"Count of 'green colour': {greencolour_count}\")\n\ncolours_add = [\"orange\", \"purple\"] #EXTEND - to append elements from another iteraable list to the end of the current list\ncolours.extend(colours_add)\nprint(f\"Extend: {colours}\") \n\ngreen_index = colours.index(\"green\") #INDEX - return index of first occurence of an element\nprint(f\"Index of 'green colour': {green_index}\")\n\ncolours.sort() #SORT - to sort elements in a specific order (default - ascending)\nprint(f\"Sort: {colours}\")\n\ncolours.reverse() #REVERSE - to reverse order of elements\nprint(f\"Reverse: {colours}\")\n\ncolours.clear() #CLEAR - to remove all elements in the list\nprint(f\"Clear: {colours}\")\n\ncolours_remove = colours_add.pop()   #POP - to remove and return the element at the specified position in the list(no index - return last element)\nprint(f\"Pop: {colours_remove}, Remaining: {colours_add}\")",
      "metadata": {
        "trusted": true
      },
      "outputs": [
        {
          "name": "stdout",
          "text": "Append: ['red', 'blue', 'green']\nInsert: ['red', 'pink', 'blue', 'green']\nRemove: ['red', 'pink', 'green']\nCount of 'green colour': 2\nExtend: ['red', 'pink', 'green', 'green', 'orange', 'purple']\nIndex of 'green colour': 2\nSort: ['green', 'green', 'orange', 'pink', 'purple', 'red']\nReverse: ['red', 'purple', 'pink', 'orange', 'green', 'green']\nClear: []\nPop: purple, Remaining: ['orange']\n",
          "output_type": "stream"
        }
      ],
      "execution_count": 10
    },
    {
      "cell_type": "code",
      "source": "# find the product of all numbers in a list. \nfrom functools import reduce\nnumbers = [1, 2, 3, 4, 5]\nproduct = reduce(lambda x, y: x * y, numbers)\nprint(product)",
      "metadata": {
        "trusted": true
      },
      "outputs": [
        {
          "name": "stdout",
          "text": "120\n",
          "output_type": "stream"
        }
      ],
      "execution_count": 22
    },
    {
      "cell_type": "code",
      "source": "# concatenate all strings in a list. \nfrom functools import reduce\nstrings = ['Python', 'is', 'awesome']\nconcatenated_string = reduce(lambda x, y: x + y, strings)\nprint(concatenated_string)",
      "metadata": {
        "trusted": true
      },
      "outputs": [
        {
          "name": "stdout",
          "text": "Pythonisawesome\n",
          "output_type": "stream"
        }
      ],
      "execution_count": 23
    },
    {
      "cell_type": "code",
      "source": "# a new list that contains only the even numbers from the original list.\nnumbers = [1, 2, 3, 4, 5, 6, 7, 8, 9, 10]\neven_numbers = [x for x in numbers if x % 2 == 0]\nprint(even_numbers)",
      "metadata": {
        "trusted": true
      },
      "outputs": [
        {
          "name": "stdout",
          "text": "[2, 4, 6, 8, 10]\n",
          "output_type": "stream"
        }
      ],
      "execution_count": 24
    },
    {
      "cell_type": "code",
      "source": "# a list comprehension to filter out all the duplicate elements from a given list.\nnumbers = [1, 2, 3, 3, 4, 4, 5, 6, 6]\nunique_numbers = [x for i, x in enumerate(numbers) if numbers.index(x) == i]\nprint(unique_numbers)",
      "metadata": {
        "trusted": true
      },
      "outputs": [
        {
          "name": "stdout",
          "text": "[1, 2, 3, 4, 5, 6]\n",
          "output_type": "stream"
        }
      ],
      "execution_count": 25
    },
    {
      "cell_type": "code",
      "source": "# Indexing \ncolours = [\"red\", \"blue\", \"green\", \"pruple\", \"pink\"]\n\n# Accessing elements using positive indexing\nprint(\"First colour:\", colours[0])  \nprint(\"Second colour:\", colours[1]) \nprint(\"Last colour:\", colours[-1])  \n\n# Accessing elements using negative indexing \nprint(\"Second last colour:\", colours[-2])  \nprint(\"Third last colour:\", colours[-3])  \n\n# Getting the value of an element at a specific index\nprint(\"Middle colour:\", colours[2])  \n\n# Change the value of an element at a specific index\ncolours[1] = \"pink\"  \nprint(\"Updated colours:\", colours)",
      "metadata": {
        "trusted": true
      },
      "outputs": [
        {
          "name": "stdout",
          "text": "First colour: red\nSecond colour: blue\nLast colour: pink\nSecond last colour: pruple\nThird last colour: green\nMiddle colour: green\nUpdated colours: ['red', 'pink', 'green', 'pruple', 'pink']\n",
          "output_type": "stream"
        }
      ],
      "execution_count": 26
    },
    {
      "cell_type": "code",
      "source": "# Slicing\nmy_list = [1, 2, 3, 4, 5, 6, 7, 8, 9, 10]\n\nsliced_list = my_list[2:5]\nprint(\"Sliced List (2:5):\", sliced_list)\n\nsliced_list = my_list[5:]\nprint(\"Sliced List (5:):\", sliced_list)\n\nsliced_list = my_list[:3]\nprint(\"Sliced List (:3):\", sliced_list)\n\nsliced_list = my_list[3::2]\nprint(\"Sliced List (3::2):\", sliced_list)\n\nsliced_list = my_list[::2]\nprint(\"Sliced List (::2):\", sliced_list)\n\nsliced_list = my_list[-5:-2]\nprint(\"Sliced List (-5:-2):\", sliced_list)",
      "metadata": {
        "trusted": true
      },
      "outputs": [
        {
          "name": "stdout",
          "text": "Sliced List (2:5): [3, 4, 5]\nSliced List (5:): [6, 7, 8, 9, 10]\nSliced List (:3): [1, 2, 3]\nSliced List (3::2): [4, 6, 8, 10]\nSliced List (::2): [1, 3, 5, 7, 9]\nSliced List (-5:-2): [6, 7, 8]\n",
          "output_type": "stream"
        }
      ],
      "execution_count": 27
    },
    {
      "cell_type": "code",
      "source": "#bmi calculator\nheight=[1.87,1.87,1.82,1.91,1.90,1.85]\nweight=[81.65,97.52,95.25,92.98,86.18,88.45]\nbmi=[]\nn=len(height)\nfor i in range(0,n):\n    bmi.append(weight[i]/height[i]**2)\nprint(bmi)",
      "metadata": {
        "trusted": true
      },
      "outputs": [
        {
          "name": "stdout",
          "text": "[23.349252194801107, 27.887557550973714, 28.755585074266392, 25.48723993311587, 23.87257617728532, 25.843681519357194]\n",
          "output_type": "stream"
        }
      ],
      "execution_count": 29
    },
    {
      "cell_type": "code",
      "source": "prime = []\nfor n in range(1, 11):\n    for i in range(2, n):\n        if n % i == 0:\n            break\n    else:\n        prime.append(n)\n\nprint(\"Prime numbers:\", prime)\n\neven = []\nfor n in range(2, 11): \n    if n % 2 == 0:\n        even.append(n)\n\nevennum = set(even)\nprimenum = set(prime)\n\nunion = evennum | primenum\nintersection=evennum & primenum;\ndifference=evennum - primenum\nprint(\"Union:\", union)\nprint(\"Intersection:\", intersection)\nprint(\"Difference \", difference)",
      "metadata": {
        "trusted": true
      },
      "outputs": [
        {
          "name": "stdout",
          "text": "Prime numbers: [1, 2, 3, 5, 7]\nUnion: {1, 2, 3, 4, 5, 6, 7, 8, 10}\nIntersection: {2}\nDifference  {8, 10, 4, 6}\n",
          "output_type": "stream"
        }
      ],
      "execution_count": 31
    }
  ]
}