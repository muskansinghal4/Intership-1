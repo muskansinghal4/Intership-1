{
  "metadata": {
    "kernelspec": {
      "name": "python",
      "display_name": "Python (Pyodide)",
      "language": "python"
    },
    "language_info": {
      "codemirror_mode": {
        "name": "python",
        "version": 3
      },
      "file_extension": ".py",
      "mimetype": "text/x-python",
      "name": "python",
      "nbconvert_exporter": "python",
      "pygments_lexer": "ipython3",
      "version": "3.8"
    }
  },
  "nbformat_minor": 4,
  "nbformat": 4,
  "cells": [
    {
      "cell_type": "code",
      "source": "#Inheritance provides code reusability to the program because we can use an existing class to create a new class instead of creating it from scratch.\n#In inheritance, the child class acquires the properties and can access all the data members and functions defined in the parent class.",
      "metadata": {
        "trusted": true
      },
      "outputs": [],
      "execution_count": null
    },
    {
      "cell_type": "code",
      "source": "#singlelevel inheritence : it enables a derived class to inherit properties from a single parent class.\nclass Parent(object):\n    def __init__(self,name,idnumber):\n        self.name=name\n        self.id=idnumber\n    def display(self):\n        print(self.name,self.id)\nclass Child(Parent):\n    def __init__(self,name,idnumber,salary,post):\n        self.salary=salary\n        self.post=post\n        Parent.__init__(self,name,idnumber)\na=Child('abc',7,23000,'xyz')\nprint(a.name)\nprint(a.salary)",
      "metadata": {
        "trusted": true
      },
      "outputs": [
        {
          "name": "stdout",
          "text": "abc\n23000\n",
          "output_type": "stream"
        }
      ],
      "execution_count": 22
    },
    {
      "cell_type": "code",
      "source": "# multilevel inheritance :  features of the base class and the derived class are further inherited into the new derived class. \nclass Parent(object):\n    def __init__(self,name):\n        self.name=name\n    def getname(self):\n        return self.name\nclass Child(Parent):\n    def __init__(self,name,age):\n        Parent.__init__(self,name)\n        self.age=age\n    def getage(self):\n        return self.age\nclass Grandchild(Child):\n    def __init__(self,name,age,address):\n        Child.__init__(self,name,age)\n        self.address=address\n    def getaddress(self):\n        return self.address\ng=Grandchild('abc',12,'punjab')\nprint(g.getname(),g.getage(),g.getaddress())",
      "metadata": {
        "trusted": true
      },
      "outputs": [
        {
          "name": "stdout",
          "text": "abc 12 punjab\n",
          "output_type": "stream"
        }
      ],
      "execution_count": 23
    },
    {
      "cell_type": "code",
      "source": "#Multiple Inheritance : When a class can be derived from more than one base class this type of inheritance.\nclass Parent1(object):\n    def __init__(self):\n        self.str1='LPU Parent 1'\n        print('Parent 1')\nclass Parent2(object):\n    def __init__(self):\n        self.str2='LPU Parent 2'\n        print('Parent 2')\nclass Child(Parent1,Parent2):\n    def __init__(self):\n        Parent1.__init__(self)\n        Parent2.__init__(self)\n        print('Child class')\n    def printstr(self):\n        print(self.str1,self.str2)\nob=Child()\nob.printstr()",
      "metadata": {
        "trusted": true
      },
      "outputs": [
        {
          "name": "stdout",
          "text": "Parent 1\nParent 2\nChild class\nLPU Parent 1 LPU Parent 2\n",
          "output_type": "stream"
        }
      ],
      "execution_count": 24
    },
    {
      "cell_type": "code",
      "source": "# Hierarchry Inheritance : When more than one derived class are created from a single base this type of inheritance\nclass Parent:\n    def feature1(self):\n        print('feature 1 working')\nclass Child1(Parent):\n    def feature2(self):\n        print('child 1-feature 2 working')\nclass Child2(Parent):\n    def feature3(self):\n        print('child 2-feature 3 working')\nobj1=Child1()\nobj2=Child2()\nobj1.feature1()\nobj1.feature2()\nobj2.feature1()\nobj2.feature3()",
      "metadata": {
        "trusted": true
      },
      "outputs": [
        {
          "name": "stdout",
          "text": "feature 1 working\nchild 1-feature 2 working\nfeature 1 working\nchild 2-feature 3 working\n",
          "output_type": "stream"
        }
      ],
      "execution_count": 25
    },
    {
      "cell_type": "code",
      "source": "#  Hybrid Inheritance : Inheritance consisting of multiple types of inheritance\nclass School:\n    def func1(self):\n        print('Function is in school')\nclass Student1:\n    def func2(self):\n        print('Function is in student1')\nclass Student2:\n    def func3(self):\n        print('Function is in student2')\nclass Student3:\n    def func4(self):\n        print('Function is in student3')\nob=Student3()\nob.func4()",
      "metadata": {
        "trusted": true
      },
      "outputs": [
        {
          "name": "stdout",
          "text": "Function is in student3\n",
          "output_type": "stream"
        }
      ],
      "execution_count": 26
    },
    {
      "cell_type": "code",
      "source": "#Practice Ques Animal Sound Ques MRO (Method Resolution Order)\nclass Animal:\n  def make_sound(self):\n    print(\"Generic animal sound\")\n\nclass Dog(Animal):\n  def make_sound(self):\n    print(\"Woof\")\n\nclass Cat(Animal):\n  def make_sound(self):\n    print(\"Meow\")\n\nanimals = [Animal(), Dog(), Cat()]\nfor animal in animals:\n  animal.make_sound()",
      "metadata": {
        "trusted": true
      },
      "outputs": [
        {
          "name": "stdout",
          "text": "Generic animal sound\nWoof\nMeow\n",
          "output_type": "stream"
        }
      ],
      "execution_count": 27
    },
    {
      "cell_type": "code",
      "source": "#method overriding\nclass Shape:\n  def area(self):\n    raise NotImplementedError(\"Subclasses must implement area()\")\n\nclass Square(Shape):\n  def __init__(self, side):\n    self.side = side\n  def area(self):\n    return self.side * self.side\n\nclass Circle(Shape):\n  def __init__(self, radius):\n    self.radius = radius\n  def area(self):\n    return 3.14 * self.radius * self.radius\n\nsquare = Square(10)\ncircle = Circle(5)\n\nprint(f\"Area of square: {square.area()}\")  \nprint(f\"Area of circle: {circle.area()}\")  ",
      "metadata": {
        "trusted": true
      },
      "outputs": [
        {
          "name": "stdout",
          "text": "Area of square: 100\nArea of circle: 78.5\n",
          "output_type": "stream"
        }
      ],
      "execution_count": 8
    },
    {
      "cell_type": "code",
      "source": "#super keyword\nclass Animal:\n    def eat(self):\n        print(\"Eating\")\n\nclass Dog(Animal):\n    def eat(self):\n        print(\"Eating bread\")\n\n    def bark(self):\n        print(\"Barking\")\n\n    def work(self):\n        super().eat()  \n        self.bark()\n\nclass TestSuper2:\n    @staticmethod\n    def main():\n        d = Dog()\n        d.work()\n\nif __name__ == \"__main__\":\n    TestSuper2.main()\n",
      "metadata": {
        "trusted": true
      },
      "outputs": [
        {
          "name": "stdout",
          "text": "Eating\nBarking\n",
          "output_type": "stream"
        }
      ],
      "execution_count": 17
    },
    {
      "cell_type": "code",
      "source": "#super keyword with __init__ method\nclass Emp():\n    def __init__(self, id, name, Add):\n        self.id = id\n        self.name = name\n        self.Add = Add\n \nclass Freelance(Emp):\n    def __init__(self, id, name, Add, Emails):\n        super().__init__(id, name, Add)\n        self.Emails = Emails\n \nEmp_1 = Freelance(102, \"ABC\", \"Delhi\" , \"ABC@gmails\")\nprint('The ID is:', Emp_1.id)\nprint('The Name is:', Emp_1.name)\nprint('The Address is:', Emp_1.Add)\nprint('The Emails is:', Emp_1.Emails)",
      "metadata": {
        "trusted": true
      },
      "outputs": [
        {
          "name": "stdout",
          "text": "The ID is: 102\nThe Name is: ABC\nThe Address is: Delhi\nThe Emails is: ABC@gmails\n",
          "output_type": "stream"
        }
      ],
      "execution_count": 20
    },
    {
      "cell_type": "code",
      "source": "#super keyword with _str_ method\nclass Animal:\n    def __init__(self, species):\n        self.species = species\n\n    def __str__(self):\n        return f\"I am a {self.species}\"\n\nclass Dog(Animal):\n    def __init__(self, breed):\n        super().__init__(\"dog\")\n        self.breed = breed\n\n    def __str__(self):\n        return super().__str__() + f\" of breed {self.breed}\"\n\nmy_dog = Dog(\"Golden Retriever\")\nprint(my_dog)",
      "metadata": {
        "trusted": true
      },
      "outputs": [
        {
          "name": "stdout",
          "text": "I am a dog of breed Golden Retriever\n",
          "output_type": "stream"
        }
      ],
      "execution_count": 21
    }
  ]
}