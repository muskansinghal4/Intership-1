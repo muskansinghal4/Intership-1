{
  "metadata": {
    "kernelspec": {
      "name": "python",
      "display_name": "Python (Pyodide)",
      "language": "python"
    },
    "language_info": {
      "codemirror_mode": {
        "name": "python",
        "version": 3
      },
      "file_extension": ".py",
      "mimetype": "text/x-python",
      "name": "python",
      "nbconvert_exporter": "python",
      "pygments_lexer": "ipython3",
      "version": "3.8"
    }
  },
  "nbformat_minor": 5,
  "nbformat": 4,
  "cells": [
    {
      "id": "c9c6b661-ab21-4e83-8f26-c7bc70155a11",
      "cell_type": "code",
      "source": "#Ques1 Area Calculator\ndef Calculate_area(shape, dimensions):\n    if shape.lower() == \"rectangle\":\n        length, width = dimensions\n        return length * width\n    elif shape.lower() == \"circle\":\n        radius, = dimensions\n        return 3.14159 * radius * radius\n    else:\n        return \"Invalid shape\"\nprint(Calculate_area(\"rectangle\", (7, 50))) \nprint(Calculate_area(\"circle\", (7,)))      \nprint(Calculate_area(\"triangle\", (23, 10)))   ",
      "metadata": {
        "trusted": true
      },
      "outputs": [
        {
          "name": "stdout",
          "text": "350\n153.93791\nInvalid shape\n",
          "output_type": "stream"
        }
      ],
      "execution_count": 17
    },
    {
      "id": "7c8126aa-082b-4967-a130-e0998d659a6b",
      "cell_type": "code",
      "source": "#Ques2 String Manipulation\ndef reverse_words(text):\n  word = text.split()\n  word.reverse()\n  return \" \".join(word)\nprint(reverse_words(\"Hi there\"))\nprint(reverse_words(\"How are you\"))",
      "metadata": {
        "trusted": true
      },
      "outputs": [
        {
          "name": "stdout",
          "text": "there Hi\nyou are How\n",
          "output_type": "stream"
        }
      ],
      "execution_count": 18
    },
    {
      "id": "ddeab1e9-6040-45e5-948f-648f3fbec945",
      "cell_type": "code",
      "source": "#Ques3 List Statistics\ndef analyze_list(numbers):\n    dictn={}\n    dictn[\"Maximum\"]=max(numbers)\n    dictn[\"Minimum\"]=min(numbers)\n    dictn[\"Sum\"]=sum(numbers)\n    dictn[\"Average\"]=sum(numbers)/len(numbers)\n    return dictn\nnumbers=[20,40,60,80,100]\nprint(analyze_list(numbers))",
      "metadata": {
        "trusted": true
      },
      "outputs": [
        {
          "name": "stdout",
          "text": "{'Maximum': 100, 'Minimum': 20, 'Sum': 300, 'Average': 60.0}\n",
          "output_type": "stream"
        }
      ],
      "execution_count": 19
    },
    {
      "id": "d3bbf084-c545-4ba3-933e-d68451a29dc2",
      "cell_type": "code",
      "source": "#Ques4 Filtering with Lambda\ndef filter_short_names(names, max_length):\n    return list(filter(lambda name: len(name) < max_length, names))\nproduct_names = [\"Apple\",\"Banana\",\"Orange\",\"Pinapple\"]\nfiltered_names = filter_short_names(product_names, 7)\nprint(filtered_names) ",
      "metadata": {
        "trusted": true
      },
      "outputs": [
        {
          "name": "stdout",
          "text": "['Apple', 'Banana', 'Orange']\n",
          "output_type": "stream"
        }
      ],
      "execution_count": 20
    },
    {
      "id": "83205709-9e63-4011-a62b-d119068b145a",
      "cell_type": "code",
      "source": "#Ques5 Text Analyzer\ndef analyze_text(text):\n    text = text.lower()\n    for char in \"!@#$%^&*()-=+{};:'<>,.?/~\\\\|\\t\\n\\r\":\n        text = text.replace(char, \"\")\n\n    words = text.split()\n    word_count = len(words)\n    char_count = sum(len(word) for word in words)\n\n    word_counts = {}\n    for word in words:\n        word_counts[word] = word_counts.get(word, 0) + 1\n\n    most_frequent_word = max(word_counts, key=word_counts.get)\n\n    return {\n        \"word_count\": word_count,\n        \"char_count\": char_count,\n        \"most_frequent_word\": most_frequent_word\n    }\n\ntext = \"Hi! how are you what are you doing?.\"\nanalysis = analyze_text(text)\nprint(analysis)\n",
      "metadata": {
        "trusted": true
      },
      "outputs": [
        {
          "name": "stdout",
          "text": "{'word_count': 8, 'char_count': 26, 'most_frequent_word': 'are'}\n",
          "output_type": "stream"
        }
      ],
      "execution_count": 16
    }
  ]
}