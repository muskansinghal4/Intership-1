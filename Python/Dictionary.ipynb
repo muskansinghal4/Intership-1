{
  "metadata": {
    "kernelspec": {
      "name": "python",
      "display_name": "Python (Pyodide)",
      "language": "python"
    },
    "language_info": {
      "codemirror_mode": {
        "name": "python",
        "version": 3
      },
      "file_extension": ".py",
      "mimetype": "text/x-python",
      "name": "python",
      "nbconvert_exporter": "python",
      "pygments_lexer": "ipython3",
      "version": "3.8"
    }
  },
  "nbformat_minor": 4,
  "nbformat": 4,
  "cells": [
    {
      "cell_type": "code",
      "source": "#Dictionary\nd={}\nd={\"a\":1,\"b\":2}\nprint(type(d)) \nd[\"c\"]=3\nprint(d) \n\nstudents={\"name\":\"abc\",\"marks\": {\"math\":20,\"science\":30}}\nprint(students[\"marks\"][\"science\"])\n",
      "metadata": {
        "trusted": true
      },
      "outputs": [
        {
          "name": "stdout",
          "text": "<class 'dict'>\n{'a': 1, 'b': 2, 'c': 3}\n30\n",
          "output_type": "stream"
        }
      ],
      "execution_count": 5
    },
    {
      "cell_type": "code",
      "source": "#update an element\nmy_dict = {'name': 'rohan', 'marks': 30, 'subject': 'maths'}\nmy_dict['marks'] = 31\nprint(my_dict) \nprint(my_dict.items())",
      "metadata": {
        "trusted": true
      },
      "outputs": [
        {
          "name": "stdout",
          "text": "{'name': 'rohan', 'marks': 31, 'subject': 'maths'}\ndict_items([('name', 'rohan'), ('marks', 31), ('subject', 'maths')])\n",
          "output_type": "stream"
        }
      ],
      "execution_count": 11
    },
    {
      "cell_type": "code",
      "source": "#key-value pair\nkeys = ['a', 'b', 'c', 'd', 'e']\nvalues = [1, 2, 3, 4, 5]\nnew_dict = {key: value for key, value in zip(keys, values)}\nprint(new_dict)",
      "metadata": {
        "trusted": true
      },
      "outputs": [
        {
          "name": "stdout",
          "text": "{'a': 1, 'b': 2, 'c': 3, 'd': 4, 'e': 5}\n",
          "output_type": "stream"
        }
      ],
      "execution_count": 15
    },
    {
      "cell_type": "code",
      "source": "# Dict with cube\nnumbers = [1, 2, 3, 4, 5]\ncube = {num: num*num*num for num in numbers}\nprint(cube)",
      "metadata": {
        "trusted": true
      },
      "outputs": [
        {
          "name": "stdout",
          "text": "{1: 1, 2: 8, 3: 27, 4: 64, 5: 125}\n",
          "output_type": "stream"
        }
      ],
      "execution_count": 14
    },
    {
      "cell_type": "code",
      "source": "d1={1:\"apple\",2:\"banana\",3:\"orange\",4:\"strawberry\"}\nd2=d1.copy() #will create a copy of d1 and assigning it to d2\nprint(d2)\nd2.clear() #will deletes all the elements of d2 and will give empty dictionary\nprint(d2)\nd1.get(1) #will get value of 1 i,e, beetle corresponding value of specified key\nd1.items() #will give a list it contains tuples and give dictionary values \tReturns a list containing a tuple for each key value pair\nd1.keys() #will return all keys of d1\nd1.values() #will retuen all values of d1\nd1.pop(4) #it will delete the key and its value\nprint(d1)\nd1.update({3:\"cherry\"}) #it will change the value\nprint(d1)\nd1.popitem() #last key value pair will be delete\nprint(d1)",
      "metadata": {
        "trusted": true
      },
      "outputs": [
        {
          "name": "stdout",
          "text": "{1: 'apple', 2: 'banana', 3: 'orange', 4: 'strawberry'}\n{}\n{1: 'apple', 2: 'banana', 3: 'orange'}\n{1: 'apple', 2: 'banana', 3: 'cherry'}\n{1: 'apple', 2: 'banana'}\n",
          "output_type": "stream"
        }
      ],
      "execution_count": 16
    },
    {
      "cell_type": "code",
      "source": "# Counting word occurrences in a sentence\nsentence = \"Hello you how are you\"\ncounting_words = {}\nfor word in sentence.split():\n    if word in counting_words:\n        counting_words[word] += 1\n    else:\n        counting_words[word] = 1\nprint(counting_words)",
      "metadata": {
        "trusted": true
      },
      "outputs": [
        {
          "name": "stdout",
          "text": "{'Hello': 1, 'you': 2, 'how': 1, 'are': 1}\n",
          "output_type": "stream"
        }
      ],
      "execution_count": 10
    },
    {
      "cell_type": "code",
      "source": "#getting data based on an condition\ndata = [\n    {\"name\": \"A\", \"age\": 25, \"city\": \"New York\"},\n    {\"name\": \"B\", \"age\": 30, \"city\": \"Chicago\"},\n    {\"name\": \"C\", \"age\": 35, \"city\": \"New York\"},\n    {\"name\": \"D\", \"age\": 40, \"city\": \"Chicago\"}\n]\n\nfiltered_data = [person for person in data if person[\"age\"] > 30]\nprint(filtered_data)",
      "metadata": {
        "trusted": true
      },
      "outputs": [
        {
          "name": "stdout",
          "text": "[{'name': 'C', 'age': 35, 'city': 'New York'}, {'name': 'D', 'age': 40, 'city': 'Chicago'}]\n",
          "output_type": "stream"
        }
      ],
      "execution_count": 17
    },
    {
      "cell_type": "code",
      "source": "#calculating average marks by subject\ndata = [\n    {\"name\": \"Alice\", \"marks\": 25, \"subject\": \"Maths\"},\n    {\"name\": \"Bob\", \"marks\": 30, \"subject\": \"English\"},\n    {\"name\": \"Charlie\", \"marks\": 35, \"subject\": \"Maths\"},\n    {\"name\": \"David\", \"marks\": 40, \"subject\": \"English\"}\n]\n\nsubject_marks = {}\nfor student in data:\n    subject = student[\"subject\"]\n    marks = student[\"marks\"]\n    if subject in subject_marks:\n        subject_marks[subject].append(marks)\n    else:\n        subject_marks[subject] = [marks]\n\naverage_marks = {subject: sum(marks) / len(marks) for subject, marks in subject_marks.items()}\nprint(average_marks)",
      "metadata": {
        "trusted": true
      },
      "outputs": [
        {
          "name": "stdout",
          "text": "{'Maths': 30.0, 'English': 35.0}\n",
          "output_type": "stream"
        }
      ],
      "execution_count": 20
    },
    {
      "cell_type": "code",
      "source": "#checking if certain element exist or not\nstudent = {'name': 'John', 'marks': 80, 'subject': 'Math'}\n\nif 'John' in student:\n    print(\"The student 'John' exists\")\nelse:\n    print(\"The student 'John' does not exist\")",
      "metadata": {
        "trusted": true
      },
      "outputs": [
        {
          "name": "stdout",
          "text": "The student 'John' does not exist\n",
          "output_type": "stream"
        }
      ],
      "execution_count": 24
    },
    {
      "cell_type": "code",
      "source": "#sets with dict\nunique_elements = set([1, 2, 3, 1, 2, 4])\nprint(unique_elements)  \n\nset1 = {1, 2, 3}\nset2 = {3, 4, 5}\nunion_set = set1.union(set2) \nintersection_set = set1.intersection(set2) ",
      "metadata": {
        "trusted": true
      },
      "outputs": [
        {
          "name": "stdout",
          "text": "{1, 2, 3, 4}\n",
          "output_type": "stream"
        }
      ],
      "execution_count": 21
    },
    {
      "cell_type": "code",
      "source": "def group_by_subject(data):\n    grouped = {}\n    for item in data:\n        subject = item['subject']\n        if subject in grouped:\n            grouped[subject].append(item)\n        else:\n            grouped[subject] = [item]\n    return grouped\n\ndata = [\n    {'name': 'A', 'marks': 80, 'subject': 'Math'},\n    {'name': 'B', 'marks': 90, 'subject': 'Science'},\n    {'name': 'C', 'marks': 70, 'subject': 'Math'},\n    {'name': 'D', 'marks': 85, 'subject': 'Science'}\n]\n\ngrouped_by_subject = group_by_subject(data)\nprint(grouped_by_subject)",
      "metadata": {
        "trusted": true
      },
      "outputs": [
        {
          "name": "stdout",
          "text": "{'Math': [{'name': 'A', 'marks': 80, 'subject': 'Math'}, {'name': 'C', 'marks': 70, 'subject': 'Math'}], 'Science': [{'name': 'B', 'marks': 90, 'subject': 'Science'}, {'name': 'D', 'marks': 85, 'subject': 'Science'}]}\n",
          "output_type": "stream"
        }
      ],
      "execution_count": 23
    },
    {
      "cell_type": "code",
      "source": "def remove_duplicate_values(dictionary):\n    unique_values = {}\n    sorted_keys = sorted(dictionary.keys(), reverse=True)\n    for key in sorted_keys:\n        value = dictionary[key]\n        if value not in unique_values.values():\n            unique_values[key] = value\n    return unique_values\n\noriginal_dict = {'a': 1, 'b': 2, 'c': 1, 'd': 3, 'e': 2, 'f': 1}\nunique_dict = remove_duplicate_values(original_dict)\nprint(unique_dict)",
      "metadata": {
        "trusted": true
      },
      "outputs": [
        {
          "name": "stdout",
          "text": "{'f': 1, 'e': 2, 'd': 3}\n",
          "output_type": "stream"
        }
      ],
      "execution_count": 25
    }
  ]
}