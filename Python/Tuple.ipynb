{
  "metadata": {
    "kernelspec": {
      "name": "python",
      "display_name": "Python (Pyodide)",
      "language": "python"
    },
    "language_info": {
      "codemirror_mode": {
        "name": "python",
        "version": 3
      },
      "file_extension": ".py",
      "mimetype": "text/x-python",
      "name": "python",
      "nbconvert_exporter": "python",
      "pygments_lexer": "ipython3",
      "version": "3.8"
    }
  },
  "nbformat_minor": 4,
  "nbformat": 4,
  "cells": [
    {
      "cell_type": "code",
      "source": "#Tuple\nfruits = (\"apple\", \"banana\", \"cherry\")\nprint(\"first_fruit = \", fruits[0])  \nprint(\"last_fruit = \", fruits[-1])\n\nnumbers = (1, 2, 3, 4, 5)\nprint(\"subtuple1 = \",numbers[1:4])\nprint(\"subtuple2 = \",numbers[2:])",
      "metadata": {
        "trusted": true
      },
      "outputs": [
        {
          "name": "stdout",
          "text": "first_fruit =  apple\nlast_fruit =  cherry\nsubtuple1 =  (2, 3, 4)\nsubtuple2 =  (3, 4, 5)\n",
          "output_type": "stream"
        }
      ],
      "execution_count": 5
    },
    {
      "cell_type": "code",
      "source": "#reverse a tuple\nletters = ('a', 'b', 'c', 'd')\nreversed = letters[::-1]  \nprint(reversed)",
      "metadata": {
        "trusted": true
      },
      "outputs": [
        {
          "name": "stdout",
          "text": "('d', 'c', 'b', 'a')\n",
          "output_type": "stream"
        }
      ],
      "execution_count": 7
    },
    {
      "cell_type": "code",
      "source": "#count of alphabets\nsentence = \"Hello, How is your day today?\"\ncount_of_o = sentence.count('o')  \nprint(count_of_o)  ",
      "metadata": {
        "trusted": true
      },
      "outputs": [
        {
          "name": "stdout",
          "text": "4\n",
          "output_type": "stream"
        }
      ],
      "execution_count": 11
    },
    {
      "cell_type": "code",
      "source": "#counting sum\nnumbers_tuple = (4, 7, 2, 11)\ntuple_sum = sum(numbers_tuple)\nprint(\"Sum of tuple elements:\", tuple_sum)",
      "metadata": {
        "trusted": true
      },
      "outputs": [
        {
          "name": "stdout",
          "text": "Sum of tuple elements: 24\n",
          "output_type": "stream"
        }
      ],
      "execution_count": 12
    },
    {
      "cell_type": "code",
      "source": "#largest and smallest number (max-min) also length\nnumbers_tuple = (3, 7, 9, 0)\nsmallest_number_tuple = max(numbers_tuple)\nlargest_number_tuple = min(numbers_tuple)\ntuple_length = len(numbers_tuple)\n\nprint(\"Smallest number in list:\", smallest_number_tuple)  \nprint(\"Largest number in tuple:\", largest_number_tuple)\nprint(\"Length of tuple:\", tuple_length)",
      "metadata": {
        "trusted": true
      },
      "outputs": [
        {
          "name": "stdout",
          "text": "Smallest number in list: 9\nLargest number in tuple: 0\nLength of tuple: 4\n",
          "output_type": "stream"
        }
      ],
      "execution_count": 16
    },
    {
      "cell_type": "code",
      "source": "# concatenate tuple\ntuple1 = (1, 2, 3)\ntuple2 = (4, 5, 6)\nconcatenated_tuple = tuple1 + tuple2\nprint(concatenated_tuple)\n",
      "metadata": {
        "trusted": true
      },
      "outputs": [
        {
          "name": "stdout",
          "text": "(1, 2, 3, 4, 5, 6)\n",
          "output_type": "stream"
        }
      ],
      "execution_count": 20
    },
    {
      "cell_type": "code",
      "source": "#sorting\nnumbers_tuple = (55, 10, 30, 4, 15)\nsorted_tuple = sorted(numbers_tuple)\nprint(\"Sorted tuple:\", sorted_tuple)",
      "metadata": {
        "trusted": true
      },
      "outputs": [
        {
          "name": "stdout",
          "text": "Sorted tuple: [4, 10, 15, 30, 55]\n",
          "output_type": "stream"
        }
      ],
      "execution_count": 22
    },
    {
      "cell_type": "code",
      "source": "repeated_number = 5\nrepetitions = 4\n\nrepeated_tuple = tuple(range(repeated_number)) * repetitions\nprint(\"Tuple with repeated elements:\", repeated_tuple) ",
      "metadata": {
        "trusted": true
      },
      "outputs": [
        {
          "name": "stdout",
          "text": "Tuple with repeated elements: (0, 1, 2, 3, 4, 0, 1, 2, 3, 4, 0, 1, 2, 3, 4, 0, 1, 2, 3, 4)\n",
          "output_type": "stream"
        }
      ],
      "execution_count": 24
    }
  ]
}