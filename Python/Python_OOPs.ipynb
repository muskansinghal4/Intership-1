{
  "metadata": {
    "kernelspec": {
      "name": "python",
      "display_name": "Python (Pyodide)",
      "language": "python"
    },
    "language_info": {
      "codemirror_mode": {
        "name": "python",
        "version": 3
      },
      "file_extension": ".py",
      "mimetype": "text/x-python",
      "name": "python",
      "nbconvert_exporter": "python",
      "pygments_lexer": "ipython3",
      "version": "3.8"
    }
  },
  "nbformat_minor": 5,
  "nbformat": 4,
  "cells": [
    {
      "id": "aca13471-e189-49ec-a48e-158ba2598782",
      "cell_type": "code",
      "source": "#Python OOPs Concept\n#Object oriented programming, we create an object to solve ques.",
      "metadata": {
        "trusted": true
      },
      "outputs": [],
      "execution_count": 17
    },
    {
      "id": "97eb453c-5416-42ca-8344-c59a83fcfb51",
      "cell_type": "code",
      "source": "class stud:\n    def details(self):\n        print(\"abc\",15,23)\nobj=stud()\nprint(type(obj))\nstud.details(obj)\nobj.details()\n\n#an object is an instance for class\n#method is like a function that we define/call to execute a class\n#init is basically a method it stands for initializa that initialize the start of the class",
      "metadata": {
        "trusted": true
      },
      "outputs": [
        {
          "name": "stdout",
          "text": "<class '__main__.stud'>\nabc 15 23\nabc 15 23\n",
          "output_type": "stream"
        }
      ],
      "execution_count": 18
    },
    {
      "id": "65f0a69d-85d2-44d9-80f4-cd8fb81ab6fa",
      "cell_type": "code",
      "source": "class Person:\n    def __new__(cls, *args, **kwargs): #The new method is used for creating and returning the new instance of the class.\n        print(\"Creating a new instance of Person\")\n        return super(Person, cls).__new__(cls)\n\n    def __init__(self, name, age): #The init method is used to initialize the object's attributes when an instance of the class is created.\n        self.name = name\n        self.age = age\n\n    def __str__(self): #The str method is a special method in Python classes that is used to define the string representation of an object\n        return f\"{self.name} ({self.age})\"\n\n# Creating an instance of the Person class\nperson1 = Person(\"Alice\", 25)\nprint(person1)\n     ",
      "metadata": {
        "trusted": true
      },
      "outputs": [
        {
          "name": "stdout",
          "text": "Creating a new instance of Person\nAlice (25)\n",
          "output_type": "stream"
        }
      ],
      "execution_count": 19
    },
    {
      "id": "dddf7d67-164a-4478-87f8-45d167ed4977",
      "cell_type": "code",
      "source": "# Person is eligible to vote or not\nclass  Person:\n    def __init__(self,name,age,gender):\n        self.name=name\n        self.age=age\n        self.gender=gender\n    def vote(self):\n        if self.age<18:\n            print(\"not eligible to vote\")\n        else:\n            print(\"eligible to vote\")\np1=Person(\"ABC\",20,\"f\")\np1.vote()",
      "metadata": {
        "trusted": true
      },
      "outputs": [
        {
          "name": "stdout",
          "text": "eligible to vote\n",
          "output_type": "stream"
        }
      ],
      "execution_count": 20
    },
    {
      "id": "b7e9ccdf-bf63-4558-ae7b-b4ee6877ff63",
      "cell_type": "code",
      "source": "# Constructor is a member function of a class that initializes the object and allocates the memory\nclass ConDes:\n    def __init__(self):  # constructor method\n        print(\"Constructor called\")  \n\n    def __del__(self):  # deconstructor method\n        print(\"Deconstructor called\") \n\nobj = ConDes() \ndel obj  # Python provides a special method called del that is a \"destructor\" of sorts.",
      "metadata": {
        "trusted": true
      },
      "outputs": [
        {
          "name": "stdout",
          "text": "Constructor called\nDeconstructor called\n",
          "output_type": "stream"
        }
      ],
      "execution_count": 21
    },
    {
      "id": "dea30603-36b6-42b1-806a-dc29257b87ba",
      "cell_type": "code",
      "source": "class Bankaccount:\n    def __init__(self,account_number,account_holder_name,balance):\n        self.account_number=account_number\n        self.account_holder_name=account_holder_name\n        self.balance=balance\n    def deposit(self,amount):\n       # amount=int(input(\"Enter amount to be deposit: \"))\n        self.balance += amount\n        print(\"Rs.\",amount,\"is deposit\")\n    def withdraw(self,amount):\n      #  amount=int(input(\"Enter amount to be withdraw: \"))\n        if self.balance>amount:\n            self.balance-=amount\n            print(\"Rs.\",amount,\"is withdrawn\")\n        else:\n            print(\"Insufficient balance\")\n    def check_balance(self):\n        print(\"Account balance is \",self.balance)\ns=Bankaccount(12345678,\"XYZ\",500)\ns.deposit(10000)\ns.withdraw(2240)\ns.check_balance()",
      "metadata": {
        "trusted": true
      },
      "outputs": [
        {
          "name": "stdout",
          "text": "Rs. 10000 is deposit\nRs. 2240 is withdrawn\nAccount balance is  8260\n",
          "output_type": "stream"
        }
      ],
      "execution_count": 22
    },
    {
      "id": "c7bc73c8-b81d-409e-b659-f2dda7ff9a4e",
      "cell_type": "code",
      "source": "# Data Abstraction is the principle of exposing only the essential features of an object to the outside world while hiding the unnecessary implementation details.\nclass Student:\n    def __init__(self, name, section, marks):\n        self.name = name\n        self.section = section\n        self.__marks = marks\n\n    def get_marks(self):\n        return self.__marks\n\n    def set_marks(self, new_marks):\n        if new_marks > 0:\n            self.__marks = new_marks\n        else:\n            print(\"Invalid marks\")\n\nstudent = Student(\"ABC\", \"A\", 50)\nprint(\"Marks before correcting : \" , student.get_marks()) \nstudent.set_marks(60)\nprint(\"Marks after correcting : \" , student.get_marks())  ",
      "metadata": {
        "trusted": true
      },
      "outputs": [
        {
          "name": "stdout",
          "text": "Marks before correcting :  50\nMarks after correcting :  60\n",
          "output_type": "stream"
        }
      ],
      "execution_count": 23
    }
  ]
}