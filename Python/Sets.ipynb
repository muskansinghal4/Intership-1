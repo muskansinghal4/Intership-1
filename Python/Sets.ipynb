{
  "metadata": {
    "kernelspec": {
      "name": "python",
      "display_name": "Python (Pyodide)",
      "language": "python"
    },
    "language_info": {
      "codemirror_mode": {
        "name": "python",
        "version": 3
      },
      "file_extension": ".py",
      "mimetype": "text/x-python",
      "name": "python",
      "nbconvert_exporter": "python",
      "pygments_lexer": "ipython3",
      "version": "3.8"
    }
  },
  "nbformat_minor": 4,
  "nbformat": 4,
  "cells": [
    {
      "cell_type": "code",
      "source": "#Sets - Adding and removing elemnts from a set\nmy_set = {1, 2, 3, 4, 5}\n\nmy_set.add(6)\nmy_set.add(7)\nprint(my_set)\nmy_set.remove(2)\nmy_set.remove(5)\nprint(my_set)",
      "metadata": {
        "trusted": true
      },
      "outputs": [
        {
          "name": "stdout",
          "text": "{1, 2, 3, 4, 5, 6, 7}\n{1, 3, 4, 6, 7}\n",
          "output_type": "stream"
        }
      ],
      "execution_count": 3
    },
    {
      "cell_type": "code",
      "source": "#Union (|)\nset1 = {1, 2, 3, 4, 5}\nset2 = {4, 5, 6, 7, 8}\nunion_set = set1.union(set2)\nprint(union_set)",
      "metadata": {
        "trusted": true
      },
      "outputs": [
        {
          "name": "stdout",
          "text": "{1, 2, 3, 4, 5, 6, 7, 8}\n",
          "output_type": "stream"
        }
      ],
      "execution_count": 4
    },
    {
      "cell_type": "code",
      "source": "#Intersection (&)\nset1 = {1, 2, 3, 4, 5}\nset2 = {4, 5, 6, 7, 8}\nintersection_set = set1.intersection(set2)\nprint(intersection_set)",
      "metadata": {
        "trusted": true
      },
      "outputs": [
        {
          "name": "stdout",
          "text": "{4, 5}\n",
          "output_type": "stream"
        }
      ],
      "execution_count": 5
    },
    {
      "cell_type": "code",
      "source": "#Difference (-)\nset1 = {1, 2, 3, 4, 5}\nset2 = {4, 5, 6, 7, 8}\ndifference_set = set1.difference(set2)\nprint(difference_set)",
      "metadata": {
        "trusted": true
      },
      "outputs": [
        {
          "name": "stdout",
          "text": "{1, 2, 3}\n",
          "output_type": "stream"
        }
      ],
      "execution_count": 6
    },
    {
      "cell_type": "code",
      "source": "#Symmetric Difference (^)\nset1 = {1, 2, 3, 4, 5}\nset2 = {4, 5, 6, 7, 8}\nsymmetric_difference_set = set1.symmetric_difference(set2)\nprint(symmetric_difference_set)",
      "metadata": {
        "trusted": true
      },
      "outputs": [
        {
          "name": "stdout",
          "text": "{1, 2, 3, 6, 7, 8}\n",
          "output_type": "stream"
        }
      ],
      "execution_count": 7
    },
    {
      "cell_type": "code",
      "source": "# Check if an element is in the set\nmy_set = {1, 2, 3, 4, 5}\nif 4 in my_set:\n    print(\"4 is in the set\")\nelse:\n    print(\"4 is not in the set\")",
      "metadata": {
        "trusted": true
      },
      "outputs": [
        {
          "name": "stdout",
          "text": "4 is in the set\n",
          "output_type": "stream"
        }
      ],
      "execution_count": 8
    },
    {
      "cell_type": "code",
      "source": "# Check if set1 is a subset of set2\nset1 = {1, 2, 3}\nset2 = {1, 2, 3, 4, 5}\nif set1.issubset(set2):\n    print(\"set1 is a subset of set2\")\nelse:\n    print(\"set1 is not a subset of set2\")",
      "metadata": {
        "trusted": true
      },
      "outputs": [
        {
          "name": "stdout",
          "text": "set1 is a subset of set2\n",
          "output_type": "stream"
        }
      ],
      "execution_count": 9
    },
    {
      "cell_type": "code",
      "source": "# Check if the two sets are equal\nset1 = {1, 2, 3}\nset2 = {1, 2, 3}\nif set1 == set2:\n    print(\"The two sets are equal\")\nelse:\n    print(\"The two sets are not equal\")",
      "metadata": {
        "trusted": true
      },
      "outputs": [
        {
          "name": "stdout",
          "text": "The two sets are equal\n",
          "output_type": "stream"
        }
      ],
      "execution_count": 10
    },
    {
      "cell_type": "code",
      "source": "#Cartesian Product\nset1 = {1, 2}\nset2 = {'a', 'b', 'c'}\ncartesian_product = {(x, y) for x in set1 for y in set2}\nprint(cartesian_product)",
      "metadata": {
        "trusted": true
      },
      "outputs": [
        {
          "name": "stdout",
          "text": "{(2, 'c'), (2, 'b'), (1, 'b'), (2, 'a'), (1, 'c'), (1, 'a')}\n",
          "output_type": "stream"
        }
      ],
      "execution_count": 14
    },
    {
      "cell_type": "code",
      "source": "# Creating a set of squares of numbers from 1 to 5\nsquares = {x * x for x in range(1, 6)}\nprint(squares)  \n# Creating a set of even squares of numbers from 1 to 5\neven_squares = {x * x for x in range(1, 6) if x % 2 == 0}\nprint(even_squares)  # Output: {4, 16}",
      "metadata": {
        "trusted": true
      },
      "outputs": [
        {
          "name": "stdout",
          "text": "{1, 4, 9, 16, 25}\n{16, 4}\n",
          "output_type": "stream"
        }
      ],
      "execution_count": 17
    }
  ]
}