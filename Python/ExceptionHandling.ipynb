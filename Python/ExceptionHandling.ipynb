{
  "metadata": {
    "kernelspec": {
      "name": "python",
      "display_name": "Python (Pyodide)",
      "language": "python"
    },
    "language_info": {
      "codemirror_mode": {
        "name": "python",
        "version": 3
      },
      "file_extension": ".py",
      "mimetype": "text/x-python",
      "name": "python",
      "nbconvert_exporter": "python",
      "pygments_lexer": "ipython3",
      "version": "3.8"
    }
  },
  "nbformat_minor": 5,
  "nbformat": 4,
  "cells": [
    {
      "id": "effad42f-82ed-4562-ad2b-01b232581fc2",
      "cell_type": "code",
      "source": "#Try and Catch Block\n# We write our code that might generate an exception inside the try block. When an exception occurs, it is caught by the except block. \ntry:\n    num = 5\n    den = 0\n    ans = num/den\n    print(ans)\nexcept:\n    print(\"Error! Denominator cannot be 0\")",
      "metadata": {
        "trusted": true
      },
      "outputs": [
        {
          "name": "stdout",
          "text": "Error! Denominator cannot be 0\n",
          "output_type": "stream"
        }
      ],
      "execution_count": 1
    },
    {
      "id": "8e0803d3-083e-4914-9269-4136b5dac8b8",
      "cell_type": "code",
      "source": "#We can raise specific exceptions using except block\ndef divide(num, den):\n    try:  # try block\n        res = num / den\n        return res\n    except ZeroDivisionError:  # possible error if denominator is 0, handle this error\n        print(\"Can't divide by Zero\")\n        return 0\n\ntry:\n    num = 43\n    den = 0\n    result = divide(num, den)\n    print(\"Result:\", result)\nexcept ValueError:  # catching ValueError from the int conversion\n    print(\"Main block: Invalid input. Please enter valid integers.\")\n",
      "metadata": {
        "trusted": true
      },
      "outputs": [
        {
          "name": "stdout",
          "text": "Can't divide by Zero\nResult: 0\n",
          "output_type": "stream"
        }
      ],
      "execution_count": 6
    },
    {
      "id": "8ac88438-251c-4db1-b6b9-809fea48b772",
      "cell_type": "code",
      "source": "#try except with else, this returns reciprocal of a number\ndef reciprocal( num1 ):  \n    try:  \n        rec = 1 / num1  \n    except ZeroDivisionError:  \n        print( \"We cannot divide by zero\" )  \n    else:  \n        print ( rec )  \nreciprocal( 2 )  \nreciprocal( 0 )  ",
      "metadata": {
        "trusted": true
      },
      "outputs": [
        {
          "name": "stdout",
          "text": "0.5\nWe cannot divide by zero\n",
          "output_type": "stream"
        }
      ],
      "execution_count": 9
    },
    {
      "id": "f035b2fc-02ef-4ab3-bdab-87e4cbaccb5a",
      "cell_type": "code",
      "source": "class InvalidRange(Exception):\n    pass\ntry:\n# marks=input(\"Enter marks:\")\n    marks=-1\n    if(marks<0 or marks>100):\n        raise InvalidRange\n    print(\"Marks=\",marks)\nexcept ValueError:\n    print(\"Invalid Input\")\nexcept InvalidRange:\n    print(\"Input value out of range\")",
      "metadata": {
        "trusted": true
      },
      "outputs": [
        {
          "name": "stdout",
          "text": "Input value out of range\n",
          "output_type": "stream"
        }
      ],
      "execution_count": 29
    },
    {
      "id": "65e8f607-df12-4268-9eda-f09fdfe1d85f",
      "cell_type": "code",
      "source": "#try except with finally block\ndef process_list(numbers):\n    try:\n        if len(numbers)==0:\n            raise IndexError\n        else:\n            print(sum(numbers))\n    except IndexError:\n        print(\"Invalid input: The list cannot be empty\")\n    finally:\n        print(\"Processing Complete\")\nprocess_list([1,2,3])",
      "metadata": {
        "trusted": true
      },
      "outputs": [
        {
          "name": "stdout",
          "text": "6\nProcessing Complete\n",
          "output_type": "stream"
        }
      ],
      "execution_count": 13
    },
    {
      "id": "7bc6af53-4c7d-4108-889e-b5ac7442d73c",
      "cell_type": "code",
      "source": "#Performing basic maths operations using exception handling\ndef perform_math_operations(num1, num2):\n    try:\n        if not isinstance(num1, int) or not isinstance(num2, int):\n            raise ValueError(\"Invalid input: both numbers must be integers.\")\n        \n        addition = num1 + num2\n        subtraction = num1 - num2\n        multiplication = num1 * num2\n        division = num1 / num2\n        \n        print(\"Addition:\", addition)\n        print(\"Subtraction:\", subtraction)\n        print(\"Multiplication:\", multiplication)\n        print(\"Division:\", division)\n    \n    except ValueError as ve:\n        print(ve)\n    \n    finally:\n        print(\"Math operations complete.\")\nperform_math_operations(10,20)",
      "metadata": {
        "trusted": true
      },
      "outputs": [
        {
          "name": "stdout",
          "text": "Addition: 30\nSubtraction: -10\nMultiplication: 200\nDivision: 0.5\nMath operations complete.\n",
          "output_type": "stream"
        }
      ],
      "execution_count": 17
    },
    {
      "id": "133956e9-3b62-434f-b714-8b39f70d48b1",
      "cell_type": "code",
      "source": "#Checking if a given string is palidrome or not\nclass PalindromeError(Exception):\n    pass\ndef is_palindrome(input_str):\n    if not isinstance(input_str,str):\n        raise PalindromeError(\"Input must be a string\")\n    pal_str = input_str.replace(\" \", \"\").lower()\n    if pal_str==pal_str[::-1]:\n        return True\n    else:\n        return False\ntry:\n    print(is_palindrome(\"madam\"))\n    print(is_palindrome(\"Hello\"))\n    print(is_palindrome(23))\nexcept PalindromeError as e:\n    print(e)",
      "metadata": {
        "trusted": true
      },
      "outputs": [
        {
          "name": "stdout",
          "text": "True\nFalse\nInput must be a string\n",
          "output_type": "stream"
        }
      ],
      "execution_count": 24
    },
    {
      "id": "51d7921e-b217-4f6c-a201-91c3dc5109d9",
      "cell_type": "code",
      "source": "#Calculating square root\nimport math\nclass NegativeNumberError(Exception):\n    pass\n\ndef sqrt(num):\n    if num < 0:\n        raise NegativeNumberError(\"Cannot calculate square root of a negative number\")\n    return math.sqrt(num)\n\ntry:\n    print(sqrt(25))  # \n    print(sqrt(-4)) \nexcept NegativeNumberError as e:\n    print(e)",
      "metadata": {
        "trusted": true
      },
      "outputs": [
        {
          "name": "stdout",
          "text": "5.0\nCannot calculate square root of a negative number\n",
          "output_type": "stream"
        }
      ],
      "execution_count": 27
    }
  ]
}